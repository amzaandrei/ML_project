{
 "cells": [
  {
   "cell_type": "markdown",
   "id": "expressed-beijing",
   "metadata": {
    "toc": true
   },
   "source": [
    "<h1>Table of Contents<span class=\"tocSkip\"></span></h1>\n",
    "<div class=\"toc\"><ul class=\"toc-item\"><li><span><a href=\"#Powerpredict\" data-toc-modified-id=\"Powerpredict-1\"><span class=\"toc-item-num\">1&nbsp;&nbsp;</span>Powerpredict</a></span><ul class=\"toc-item\"><li><span><a href=\"#Loading-the-dataset\" data-toc-modified-id=\"Loading-the-dataset-1.1\"><span class=\"toc-item-num\">1.1&nbsp;&nbsp;</span>Loading the dataset</a></span></li></ul></li></ul></div>"
   ]
  },
  {
   "cell_type": "markdown",
   "id": "appropriate-hearts",
   "metadata": {},
   "source": [
    "# Powerpredict\n",
    "\n",
    "Daily power consumption is related to the weather (rain, sunshine, temperature, etc). \n",
    "Prediction of the power consumption based on the weather is relevant for energy suppliers.\n",
    "In this dataset you have to use the provided weather information to predict the power consumption."
   ]
  },
  {
   "cell_type": "markdown",
   "id": "thousand-writing",
   "metadata": {},
   "source": [
    "## Loading the dataset"
   ]
  },
  {
   "cell_type": "code",
   "execution_count": null,
   "id": "loved-usage",
   "metadata": {
    "ExecuteTime": {
     "end_time": "2021-04-01T11:14:33.192634Z",
     "start_time": "2021-04-01T11:14:32.804474Z"
    }
   },
   "outputs": [],
   "source": [
    "import pandas as pd"
   ]
  },
  {
   "cell_type": "code",
   "execution_count": null,
   "id": "bored-planner",
   "metadata": {
    "ExecuteTime": {
     "end_time": "2021-04-01T11:14:33.667021Z",
     "start_time": "2021-04-01T11:14:33.195863Z"
    }
   },
   "outputs": [],
   "source": [
    "powerpredict = pd.read_csv(\"powerpredict.csv.zip\")\n",
    "X = powerpredict.drop(columns=[\"power_consumption\"])\n",
    "y = powerpredict[[\"power_consumption\"]]"
   ]
  },
  {
   "cell_type": "markdown",
   "id": "informal-jefferson",
   "metadata": {},
   "source": [
    "Some columns are dropped here for simplicity, but they might provide useful information as well, so you might want to use them."
   ]
  },
  {
   "cell_type": "code",
   "execution_count": null,
   "id": "prescription-investment",
   "metadata": {
    "ExecuteTime": {
     "end_time": "2021-04-01T11:14:33.678753Z",
     "start_time": "2021-04-01T11:14:33.669230Z"
    }
   },
   "outputs": [],
   "source": [
    "def drop_object_columns(df):\n",
    "    drop_cols = [c for t, c in zip([t !=\"object\" for t in df.dtypes], df.columns) if not t]\n",
    "    return df.drop(columns=drop_cols)\n",
    "\n",
    "DOC = drop_object_columns\n",
    "\n",
    "def predict_show_metrics(name, reg, metric):\n",
    "    print(f\"{name}\", metric(y, reg.predict(DOC(X))))\n"
   ]
  },
  {
   "cell_type": "markdown",
   "id": "seventh-remainder",
   "metadata": {
    "ExecuteTime": {
     "end_time": "2021-03-31T11:40:19.911769Z",
     "start_time": "2021-03-31T11:40:19.889910Z"
    }
   },
   "source": [
    "Here is an example dummy ML method showing the success of such a simple predictor:"
   ]
  },
  {
   "cell_type": "code",
   "execution_count": null,
   "id": "adjusted-weight",
   "metadata": {
    "ExecuteTime": {
     "end_time": "2021-04-01T11:14:34.019459Z",
     "start_time": "2021-04-01T11:14:33.681429Z"
    }
   },
   "outputs": [],
   "source": [
    "import sklearn.metrics\n",
    "import sklearn.dummy\n",
    "reg = sklearn.dummy.DummyRegressor()\n",
    "reg.fit(DOC(X), y)\n",
    "metric = sklearn.metrics.mean_absolute_error\n",
    "\n",
    "predict_show_metrics(\"Dummy\", reg, metric)"
   ]
  },
  {
   "cell_type": "markdown",
   "id": "considerable-department",
   "metadata": {},
   "source": [
    "You have to implement a simple method that performs the predictions with the given signature:"
   ]
  },
  {
   "cell_type": "code",
   "execution_count": null,
   "id": "contemporary-wallpaper",
   "metadata": {
    "ExecuteTime": {
     "end_time": "2021-04-01T11:14:34.027148Z",
     "start_time": "2021-04-01T11:14:34.022386Z"
    }
   },
   "outputs": [],
   "source": [
    "def leader_board_predict_fn(values):\n",
    "    ### YOUR CODE HERE\n",
    "    return reg.predict(DOC(values))  # replace this with your implementation"
   ]
  },
  {
   "cell_type": "markdown",
   "id": "temporal-technical",
   "metadata": {},
   "source": [
    "which will then be used to calculate the leaderboard score in a way similar to this:"
   ]
  },
  {
   "cell_type": "code",
   "execution_count": null,
   "id": "liable-meter",
   "metadata": {
    "ExecuteTime": {
     "end_time": "2021-04-01T11:14:34.561867Z",
     "start_time": "2021-04-01T11:14:34.029895Z"
    }
   },
   "outputs": [],
   "source": [
    "### LEADER BOARD TEST\n",
    "test_data = pd.read_csv(\"powerpredict.csv.zip\")\n",
    "X_test = test_data.drop(columns=[\"power_consumption\"])\n",
    "y_test = test_data[[\"power_consumption\"]]\n",
    "y_predicted = leader_board_predict_fn(X_test)\n",
    "print(f\"Leaderboard Score: {sklearn.metrics.mean_absolute_error(y_test, y_predicted)}\")\n",
    "### LEADER BOARD TEST"
   ]
  }
 ],
 "metadata": {
  "kernelspec": {
   "display_name": "Python 3",
   "language": "python",
   "name": "python3"
  },
  "language_info": {
   "codemirror_mode": {
    "name": "ipython",
    "version": 3
   },
   "file_extension": ".py",
   "mimetype": "text/x-python",
   "name": "python",
   "nbconvert_exporter": "python",
   "pygments_lexer": "ipython3",
   "version": "3.9.2"
  },
  "toc": {
   "base_numbering": 1,
   "nav_menu": {},
   "number_sections": true,
   "sideBar": true,
   "skip_h1_title": false,
   "title_cell": "Table of Contents",
   "title_sidebar": "Contents",
   "toc_cell": true,
   "toc_position": {
    "height": "calc(100% - 180px)",
    "left": "10px",
    "top": "150px",
    "width": "352px"
   },
   "toc_section_display": true,
   "toc_window_display": true
  },
  "varInspector": {
   "cols": {
    "lenName": 16,
    "lenType": 16,
    "lenVar": 40
   },
   "kernels_config": {
    "python": {
     "delete_cmd_postfix": "",
     "delete_cmd_prefix": "del ",
     "library": "var_list.py",
     "varRefreshCmd": "print(var_dic_list())"
    },
    "r": {
     "delete_cmd_postfix": ") ",
     "delete_cmd_prefix": "rm(",
     "library": "var_list.r",
     "varRefreshCmd": "cat(var_dic_list()) "
    }
   },
   "types_to_exclude": [
    "module",
    "function",
    "builtin_function_or_method",
    "instance",
    "_Feature"
   ],
   "window_display": false
  }
 },
 "nbformat": 4,
 "nbformat_minor": 5
}
